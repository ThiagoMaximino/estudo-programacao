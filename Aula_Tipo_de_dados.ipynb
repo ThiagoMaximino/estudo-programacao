{
  "nbformat": 4,
  "nbformat_minor": 0,
  "metadata": {
    "colab": {
      "provenance": [],
      "toc_visible": true,
      "authorship_tag": "ABX9TyMZ0QX9SxNMRvM2z3RGMPNp",
      "include_colab_link": true
    },
    "kernelspec": {
      "name": "python3",
      "display_name": "Python 3"
    },
    "language_info": {
      "name": "python"
    }
  },
  "cells": [
    {
      "cell_type": "markdown",
      "metadata": {
        "id": "view-in-github",
        "colab_type": "text"
      },
      "source": [
        "<a href=\"https://colab.research.google.com/github/ThiagoMaximino/estudo-programacao/blob/main/Aula_Tipo_de_dados.ipynb\" target=\"_parent\"><img src=\"https://colab.research.google.com/assets/colab-badge.svg\" alt=\"Open In Colab\"/></a>"
      ]
    },
    {
      "cell_type": "code",
      "execution_count": 1,
      "metadata": {
        "colab": {
          "base_uri": "https://localhost:8080/"
        },
        "id": "yCkGfB5UB4q8",
        "outputId": "b461b67d-7e5f-4905-b190-72526d870e36"
      },
      "outputs": [
        {
          "output_type": "stream",
          "name": "stdout",
          "text": [
            "meu primeiro notebook\n"
          ]
        }
      ],
      "source": [
        "print('meu primeiro notebook')"
      ]
    },
    {
      "cell_type": "code",
      "source": [],
      "metadata": {
        "id": "uwJtXzBMFRrE"
      },
      "execution_count": null,
      "outputs": []
    },
    {
      "cell_type": "code",
      "source": [
        "nome = 'thiago'\n",
        "print (nome)"
      ],
      "metadata": {
        "colab": {
          "base_uri": "https://localhost:8080/"
        },
        "id": "Ir8qsBIVCcgS",
        "outputId": "e4308b2b-d044-4e4e-bc20-6bd9d5212754"
      },
      "execution_count": 4,
      "outputs": [
        {
          "output_type": "stream",
          "name": "stdout",
          "text": [
            "thiago\n"
          ]
        }
      ]
    },
    {
      "cell_type": "code",
      "source": [
        "#Descobrir tipo da variável\n",
        "type (nome)"
      ],
      "metadata": {
        "colab": {
          "base_uri": "https://localhost:8080/"
        },
        "id": "r9MUk4eDCsvQ",
        "outputId": "b1d135ba-8db7-4eb7-ff1e-1588ff8f7d3a"
      },
      "execution_count": 5,
      "outputs": [
        {
          "output_type": "execute_result",
          "data": {
            "text/plain": [
              "str"
            ]
          },
          "metadata": {},
          "execution_count": 5
        }
      ]
    },
    {
      "cell_type": "code",
      "source": [
        "a = 100"
      ],
      "metadata": {
        "id": "UeSYN9JeEPvQ"
      },
      "execution_count": 10,
      "outputs": []
    },
    {
      "cell_type": "code",
      "source": [
        "b = 25.6"
      ],
      "metadata": {
        "id": "EjaDcpulER-r"
      },
      "execution_count": 11,
      "outputs": []
    },
    {
      "cell_type": "code",
      "source": [
        "c = a > b"
      ],
      "metadata": {
        "id": "WEulPA7lEUBN"
      },
      "execution_count": 12,
      "outputs": []
    },
    {
      "cell_type": "code",
      "source": [
        "d = 'chipanze'"
      ],
      "metadata": {
        "id": "wby1lNVYEZEj"
      },
      "execution_count": 13,
      "outputs": []
    },
    {
      "cell_type": "code",
      "source": [
        "type (a)"
      ],
      "metadata": {
        "colab": {
          "base_uri": "https://localhost:8080/"
        },
        "id": "g8pjJSikEkwi",
        "outputId": "ca88bb1a-631c-423b-cc19-77396720522b"
      },
      "execution_count": 14,
      "outputs": [
        {
          "output_type": "execute_result",
          "data": {
            "text/plain": [
              "int"
            ]
          },
          "metadata": {},
          "execution_count": 14
        }
      ]
    },
    {
      "cell_type": "code",
      "source": [
        "type (b)"
      ],
      "metadata": {
        "colab": {
          "base_uri": "https://localhost:8080/"
        },
        "id": "d6fmCEu0Ez_6",
        "outputId": "0c63a8b2-2442-4922-8685-2ccda6b5c177"
      },
      "execution_count": 15,
      "outputs": [
        {
          "output_type": "execute_result",
          "data": {
            "text/plain": [
              "float"
            ]
          },
          "metadata": {},
          "execution_count": 15
        }
      ]
    },
    {
      "cell_type": "code",
      "source": [
        "type (c)"
      ],
      "metadata": {
        "colab": {
          "base_uri": "https://localhost:8080/"
        },
        "id": "LanNzFdqE3Ob",
        "outputId": "be3b3a01-fa7e-48bf-c4df-bcf926fc6a8b"
      },
      "execution_count": 16,
      "outputs": [
        {
          "output_type": "execute_result",
          "data": {
            "text/plain": [
              "bool"
            ]
          },
          "metadata": {},
          "execution_count": 16
        }
      ]
    },
    {
      "cell_type": "code",
      "source": [
        "type (d)"
      ],
      "metadata": {
        "colab": {
          "base_uri": "https://localhost:8080/"
        },
        "id": "Z3aP-r6UEtjj",
        "outputId": "89293efe-eec8-4337-bb3a-d678940e03be"
      },
      "execution_count": 17,
      "outputs": [
        {
          "output_type": "execute_result",
          "data": {
            "text/plain": [
              "str"
            ]
          },
          "metadata": {},
          "execution_count": 17
        }
      ]
    },
    {
      "cell_type": "code",
      "source": [
        "print (a)"
      ],
      "metadata": {
        "colab": {
          "base_uri": "https://localhost:8080/"
        },
        "id": "uye03rOVF0t3",
        "outputId": "632dc011-fb69-4b04-a346-5678891f063f"
      },
      "execution_count": 18,
      "outputs": [
        {
          "output_type": "stream",
          "name": "stdout",
          "text": [
            "100\n"
          ]
        }
      ]
    },
    {
      "cell_type": "code",
      "source": [
        "print (b)"
      ],
      "metadata": {
        "colab": {
          "base_uri": "https://localhost:8080/"
        },
        "id": "KbfSfW9pGGf6",
        "outputId": "2a46d367-b703-4486-b43f-58ac17c54645"
      },
      "execution_count": 19,
      "outputs": [
        {
          "output_type": "stream",
          "name": "stdout",
          "text": [
            "25.6\n"
          ]
        }
      ]
    },
    {
      "cell_type": "code",
      "source": [
        "print (c)"
      ],
      "metadata": {
        "colab": {
          "base_uri": "https://localhost:8080/"
        },
        "id": "HqUUr4vnGIxx",
        "outputId": "2c8e1885-d0f0-4e5a-d5ef-25fde7672751"
      },
      "execution_count": 23,
      "outputs": [
        {
          "output_type": "stream",
          "name": "stdout",
          "text": [
            "True\n"
          ]
        }
      ]
    },
    {
      "cell_type": "code",
      "source": [
        "print (d)"
      ],
      "metadata": {
        "colab": {
          "base_uri": "https://localhost:8080/"
        },
        "id": "2qdFpaazGLAa",
        "outputId": "9e1183be-8cea-4d99-f235-761f73d46b97"
      },
      "execution_count": 21,
      "outputs": [
        {
          "output_type": "stream",
          "name": "stdout",
          "text": [
            "chipanze\n"
          ]
        }
      ]
    },
    {
      "cell_type": "code",
      "source": [
        "car2 = 'carro vermelho'\n",
        "print (car2)"
      ],
      "metadata": {
        "colab": {
          "base_uri": "https://localhost:8080/"
        },
        "id": "DizzL1qUGUaB",
        "outputId": "c71c6aa4-12a0-49ff-a509-a187e9c4c3f7"
      },
      "execution_count": 24,
      "outputs": [
        {
          "output_type": "stream",
          "name": "stdout",
          "text": [
            "carro vermelho\n"
          ]
        }
      ]
    },
    {
      "cell_type": "code",
      "source": [
        "car3 = \"carro amarelo\"\n",
        "print (car3)"
      ],
      "metadata": {
        "colab": {
          "base_uri": "https://localhost:8080/"
        },
        "id": "XGd8NrJ4G1AY",
        "outputId": "69694e05-a9ac-4cc4-ec41-84062c049cd5"
      },
      "execution_count": 25,
      "outputs": [
        {
          "output_type": "stream",
          "name": "stdout",
          "text": [
            "carro amarelo\n"
          ]
        }
      ]
    },
    {
      "cell_type": "markdown",
      "source": [
        "Tipos de dados Booleanos\n",
        "\n"
      ],
      "metadata": {
        "id": "_hKOGQ9dKx8E"
      }
    },
    {
      "cell_type": "code",
      "source": [
        "a = 100 < 200"
      ],
      "metadata": {
        "id": "Yc9Lhy0oLo2M"
      },
      "execution_count": null,
      "outputs": []
    },
    {
      "cell_type": "code",
      "source": [
        "b = 85 ==6"
      ],
      "metadata": {
        "id": "RXH6_aJILtxa"
      },
      "execution_count": null,
      "outputs": []
    },
    {
      "cell_type": "code",
      "source": [
        "c = 'thiago' == 'maximino'"
      ],
      "metadata": {
        "id": "crb40Z3DLyEj"
      },
      "execution_count": null,
      "outputs": []
    },
    {
      "cell_type": "code",
      "source": [
        "d = 25 =='25'"
      ],
      "metadata": {
        "id": "2Y08gTGHMEIS"
      },
      "execution_count": null,
      "outputs": []
    },
    {
      "cell_type": "code",
      "source": [
        "e = 30 == ( 6 * 5 )"
      ],
      "metadata": {
        "id": "Qrdm99pgMGaC"
      },
      "execution_count": null,
      "outputs": []
    },
    {
      "cell_type": "code",
      "source": [
        "f = 'flamengo' != 'vasco'"
      ],
      "metadata": {
        "id": "44dQS-bDMOpS"
      },
      "execution_count": null,
      "outputs": []
    },
    {
      "cell_type": "code",
      "source": [],
      "metadata": {
        "id": "N5LE55haO8bl"
      },
      "execution_count": null,
      "outputs": []
    },
    {
      "cell_type": "markdown",
      "source": [
        "# Nova seção"
      ],
      "metadata": {
        "id": "k9yZ8IcDPVSy"
      }
    },
    {
      "cell_type": "code",
      "source": [
        "if(notaWalisson >= 7.0):\n",
        "  print('aprovado')\n",
        "elif(notaWalisson >= 4 and notaWalisson <7):\n",
        "  print('recperação')\n",
        "else:\n",
        "  print('reprovado')"
      ],
      "metadata": {
        "id": "-san4mAJPV47"
      },
      "execution_count": null,
      "outputs": []
    },
    {
      "cell_type": "code",
      "source": [
        "if(notaWalisson <4):\n",
        "  print('reprovado')\n",
        "elif(notaWalisson < 7):\n",
        "  print('reprovação')\n",
        "else:\n",
        "  print('aprovado')    "
      ],
      "metadata": {
        "id": "cZA8VSCzTQOD"
      },
      "execution_count": null,
      "outputs": []
    },
    {
      "cell_type": "markdown",
      "source": [
        "input de dados no pyton"
      ],
      "metadata": {
        "id": "Pqwc3f8NUVyX"
      }
    },
    {
      "cell_type": "code",
      "source": [
        "nota1 = input('digite a nota, pae!')\n",
        "nota2 = input('digite a nota, pae!')\n",
        "print(nota+nota2)"
      ],
      "metadata": {
        "id": "G4csFUWFUe7W"
      },
      "execution_count": null,
      "outputs": []
    },
    {
      "cell_type": "code",
      "source": [
        "#O velho e bom parse\n",
        "nota1 = float(input('Digite a nota, pae!'))\n",
        "nota2 = float(input('Digite a segunda nota!'))\n",
        "print(nota1+nota2)"
      ],
      "metadata": {
        "colab": {
          "base_uri": "https://localhost:8080/"
        },
        "id": "ykx_KoDuVNPa",
        "outputId": "be8db8d6-6033-4aec-d5a7-5fa4a6f7e4aa"
      },
      "execution_count": 38,
      "outputs": [
        {
          "output_type": "stream",
          "name": "stdout",
          "text": [
            "Digite a nota, pae!10\n",
            "Digite a segunda nota!10\n",
            "20.0\n"
          ]
        }
      ]
    },
    {
      "cell_type": "code",
      "source": [],
      "metadata": {
        "id": "lPgdn3o_WQCS"
      },
      "execution_count": null,
      "outputs": []
    },
    {
      "cell_type": "code",
      "source": [
        "#O velho e bom parse\n",
        "nota1 = float(input('Digite a nota, pae!'))\n",
        "nota2 = float(input('Digite a segunda nota!'))\n",
        "print(nota1+nota2)\n",
        "nota3 = float(input('Digite a terceira nota!'))\n",
        "média = (nota1+nota2+nota3/3)\n",
        "print(nota1+nota2+nota3/3)1"
      ],
      "metadata": {
        "colab": {
          "base_uri": "https://localhost:8080/"
        },
        "outputId": "e10eec86-7dce-4b8b-c34a-fb44337d5110",
        "id": "d4NEhIJIWVZX"
      },
      "execution_count": 41,
      "outputs": [
        {
          "output_type": "stream",
          "name": "stdout",
          "text": [
            "Digite a nota, pae!10\n",
            "Digite a segunda nota!10\n",
            "20.0\n",
            "Digite a terceira nota!10\n",
            "23.333333333333332\n"
          ]
        }
      ]
    },
    {
      "cell_type": "code",
      "source": [
        "if(média <4):\n",
        "  print('reprovado')\n",
        "elif(média < 7):\n",
        "  print('reprovação')\n",
        "else:\n",
        "  print('aprovado')"
      ],
      "metadata": {
        "colab": {
          "base_uri": "https://localhost:8080/"
        },
        "id": "VNinsfzlW5rP",
        "outputId": "e623a604-5ba7-441c-a649-7dbcccdc5d14"
      },
      "execution_count": 42,
      "outputs": [
        {
          "output_type": "stream",
          "name": "stdout",
          "text": [
            "aprovado\n"
          ]
        }
      ]
    }
  ]
}